{
 "cells": [
  {
   "cell_type": "code",
   "execution_count": 32,
   "id": "51183006",
   "metadata": {},
   "outputs": [],
   "source": [
    "import pandas as pd\n",
    "import numpy as np"
   ]
  },
  {
   "cell_type": "markdown",
   "id": "066c8d16",
   "metadata": {},
   "source": [
    "# 读取数据"
   ]
  },
  {
   "cell_type": "code",
   "execution_count": 47,
   "id": "2a8f6d8c",
   "metadata": {},
   "outputs": [],
   "source": [
    "data = pd.read_csv('data-1.csv')"
   ]
  },
  {
   "cell_type": "code",
   "execution_count": 48,
   "id": "5fed6c97",
   "metadata": {},
   "outputs": [
    {
     "data": {
      "text/html": [
       "<div>\n",
       "<style scoped>\n",
       "    .dataframe tbody tr th:only-of-type {\n",
       "        vertical-align: middle;\n",
       "    }\n",
       "\n",
       "    .dataframe tbody tr th {\n",
       "        vertical-align: top;\n",
       "    }\n",
       "\n",
       "    .dataframe thead th {\n",
       "        text-align: right;\n",
       "    }\n",
       "</style>\n",
       "<table border=\"1\" class=\"dataframe\">\n",
       "  <thead>\n",
       "    <tr style=\"text-align: right;\">\n",
       "      <th></th>\n",
       "      <th>Rank</th>\n",
       "      <th>Movie</th>\n",
       "      <th>Release</th>\n",
       "      <th>Distributor</th>\n",
       "      <th>Genre</th>\n",
       "      <th>Gross</th>\n",
       "      <th>Tickets Sold</th>\n",
       "    </tr>\n",
       "  </thead>\n",
       "  <tbody>\n",
       "    <tr>\n",
       "      <th>0</th>\n",
       "      <td>1</td>\n",
       "      <td>Ghost</td>\n",
       "      <td>1990-07-13</td>\n",
       "      <td>Paramount Pictures</td>\n",
       "      <td>Drama</td>\n",
       "      <td>217631306.0</td>\n",
       "      <td>51571399.0</td>\n",
       "    </tr>\n",
       "    <tr>\n",
       "      <th>1</th>\n",
       "      <td>2</td>\n",
       "      <td>Pretty Woman</td>\n",
       "      <td>1990-03-23</td>\n",
       "      <td>Walt Disney</td>\n",
       "      <td>Romantic Comedy</td>\n",
       "      <td>178406268.0</td>\n",
       "      <td>42276366.0</td>\n",
       "    </tr>\n",
       "    <tr>\n",
       "      <th>2</th>\n",
       "      <td>3</td>\n",
       "      <td>Home Alone</td>\n",
       "      <td>1990-11-16</td>\n",
       "      <td>20th Century Fox</td>\n",
       "      <td>Comedy</td>\n",
       "      <td>176954863.0</td>\n",
       "      <td>41932431.0</td>\n",
       "    </tr>\n",
       "    <tr>\n",
       "      <th>3</th>\n",
       "      <td>4</td>\n",
       "      <td>Teenage Mutant Ninja Turtles</td>\n",
       "      <td>1990-03-30</td>\n",
       "      <td>New Line</td>\n",
       "      <td>Adventure</td>\n",
       "      <td>135265915.0</td>\n",
       "      <td>32053534.0</td>\n",
       "    </tr>\n",
       "    <tr>\n",
       "      <th>4</th>\n",
       "      <td>5</td>\n",
       "      <td>The Hunt for Red October</td>\n",
       "      <td>1990-03-02</td>\n",
       "      <td>Paramount Pictures</td>\n",
       "      <td>Thriller/Suspense</td>\n",
       "      <td>120709866.0</td>\n",
       "      <td>28604233.0</td>\n",
       "    </tr>\n",
       "  </tbody>\n",
       "</table>\n",
       "</div>"
      ],
      "text/plain": [
       "   Rank                         Movie     Release         Distributor  \\\n",
       "0     1                         Ghost  1990-07-13  Paramount Pictures   \n",
       "1     2                  Pretty Woman  1990-03-23         Walt Disney   \n",
       "2     3                    Home Alone  1990-11-16    20th Century Fox   \n",
       "3     4  Teenage Mutant Ninja Turtles  1990-03-30            New Line   \n",
       "4     5      The Hunt for Red October  1990-03-02  Paramount Pictures   \n",
       "\n",
       "               Genre        Gross  Tickets Sold  \n",
       "0              Drama  217631306.0    51571399.0  \n",
       "1    Romantic Comedy  178406268.0    42276366.0  \n",
       "2             Comedy  176954863.0    41932431.0  \n",
       "3          Adventure  135265915.0    32053534.0  \n",
       "4  Thriller/Suspense  120709866.0    28604233.0  "
      ]
     },
     "execution_count": 48,
     "metadata": {},
     "output_type": "execute_result"
    }
   ],
   "source": [
    "data.head()"
   ]
  },
  {
   "cell_type": "markdown",
   "id": "bc8d0c5c",
   "metadata": {},
   "source": [
    "# 获取xy坐标"
   ]
  },
  {
   "cell_type": "code",
   "execution_count": 49,
   "id": "50a4bbde",
   "metadata": {},
   "outputs": [],
   "source": [
    "x = []\n",
    "y = []\n",
    "with open('song-coordinate.txt') as f: \n",
    "    line = f.readline()\n",
    "    while line: \n",
    "        line = line[1:-2].split(',')\n",
    "        x.append(float(line[0]))\n",
    "        y.append(float(line[1]))\n",
    "        line = f.readline()"
   ]
  },
  {
   "cell_type": "code",
   "execution_count": 50,
   "id": "e7bb4460",
   "metadata": {},
   "outputs": [
    {
     "data": {
      "text/plain": [
       "(2010, 2010)"
      ]
     },
     "execution_count": 50,
     "metadata": {},
     "output_type": "execute_result"
    }
   ],
   "source": [
    "len(x), len(y)"
   ]
  },
  {
   "cell_type": "markdown",
   "id": "f0350067",
   "metadata": {},
   "source": [
    "# 添加xy坐标"
   ]
  },
  {
   "cell_type": "code",
   "execution_count": 51,
   "id": "73b1280a",
   "metadata": {},
   "outputs": [
    {
     "name": "stderr",
     "output_type": "stream",
     "text": [
      "/Users/leongvan/opt/anaconda3/lib/python3.7/site-packages/ipykernel_launcher.py:2: SettingWithCopyWarning: \n",
      "A value is trying to be set on a copy of a slice from a DataFrame.\n",
      "Try using .loc[row_indexer,col_indexer] = value instead\n",
      "\n",
      "See the caveats in the documentation: https://pandas.pydata.org/pandas-docs/stable/user_guide/indexing.html#returning-a-view-versus-a-copy\n",
      "  \n",
      "/Users/leongvan/opt/anaconda3/lib/python3.7/site-packages/ipykernel_launcher.py:3: SettingWithCopyWarning: \n",
      "A value is trying to be set on a copy of a slice from a DataFrame.\n",
      "Try using .loc[row_indexer,col_indexer] = value instead\n",
      "\n",
      "See the caveats in the documentation: https://pandas.pydata.org/pandas-docs/stable/user_guide/indexing.html#returning-a-view-versus-a-copy\n",
      "  This is separate from the ipykernel package so we can avoid doing imports until\n"
     ]
    },
    {
     "data": {
      "text/html": [
       "<div>\n",
       "<style scoped>\n",
       "    .dataframe tbody tr th:only-of-type {\n",
       "        vertical-align: middle;\n",
       "    }\n",
       "\n",
       "    .dataframe tbody tr th {\n",
       "        vertical-align: top;\n",
       "    }\n",
       "\n",
       "    .dataframe thead th {\n",
       "        text-align: right;\n",
       "    }\n",
       "</style>\n",
       "<table border=\"1\" class=\"dataframe\">\n",
       "  <thead>\n",
       "    <tr style=\"text-align: right;\">\n",
       "      <th></th>\n",
       "      <th>Rank</th>\n",
       "      <th>Movie</th>\n",
       "      <th>Release</th>\n",
       "      <th>Distributor</th>\n",
       "      <th>Genre</th>\n",
       "      <th>Gross</th>\n",
       "      <th>Tickets Sold</th>\n",
       "      <th>x</th>\n",
       "      <th>y</th>\n",
       "    </tr>\n",
       "  </thead>\n",
       "  <tbody>\n",
       "    <tr>\n",
       "      <th>0</th>\n",
       "      <td>1</td>\n",
       "      <td>Ghost</td>\n",
       "      <td>1990-07-13</td>\n",
       "      <td>Paramount Pictures</td>\n",
       "      <td>Drama</td>\n",
       "      <td>217631306.0</td>\n",
       "      <td>51571399.0</td>\n",
       "      <td>887.85</td>\n",
       "      <td>169.88</td>\n",
       "    </tr>\n",
       "    <tr>\n",
       "      <th>1</th>\n",
       "      <td>2</td>\n",
       "      <td>Pretty Woman</td>\n",
       "      <td>1990-03-23</td>\n",
       "      <td>Walt Disney</td>\n",
       "      <td>Romantic Comedy</td>\n",
       "      <td>178406268.0</td>\n",
       "      <td>42276366.0</td>\n",
       "      <td>930.50</td>\n",
       "      <td>265.54</td>\n",
       "    </tr>\n",
       "    <tr>\n",
       "      <th>2</th>\n",
       "      <td>3</td>\n",
       "      <td>Home Alone</td>\n",
       "      <td>1990-11-16</td>\n",
       "      <td>20th Century Fox</td>\n",
       "      <td>Comedy</td>\n",
       "      <td>176954863.0</td>\n",
       "      <td>41932431.0</td>\n",
       "      <td>784.02</td>\n",
       "      <td>145.53</td>\n",
       "    </tr>\n",
       "    <tr>\n",
       "      <th>3</th>\n",
       "      <td>4</td>\n",
       "      <td>Teenage Mutant Ninja Turtles</td>\n",
       "      <td>1990-03-30</td>\n",
       "      <td>New Line</td>\n",
       "      <td>Adventure</td>\n",
       "      <td>135265915.0</td>\n",
       "      <td>32053534.0</td>\n",
       "      <td>859.17</td>\n",
       "      <td>281.43</td>\n",
       "    </tr>\n",
       "    <tr>\n",
       "      <th>4</th>\n",
       "      <td>5</td>\n",
       "      <td>The Hunt for Red October</td>\n",
       "      <td>1990-03-02</td>\n",
       "      <td>Paramount Pictures</td>\n",
       "      <td>Thriller/Suspense</td>\n",
       "      <td>120709866.0</td>\n",
       "      <td>28604233.0</td>\n",
       "      <td>815.22</td>\n",
       "      <td>302.71</td>\n",
       "    </tr>\n",
       "  </tbody>\n",
       "</table>\n",
       "</div>"
      ],
      "text/plain": [
       "   Rank                         Movie     Release         Distributor  \\\n",
       "0     1                         Ghost  1990-07-13  Paramount Pictures   \n",
       "1     2                  Pretty Woman  1990-03-23         Walt Disney   \n",
       "2     3                    Home Alone  1990-11-16    20th Century Fox   \n",
       "3     4  Teenage Mutant Ninja Turtles  1990-03-30            New Line   \n",
       "4     5      The Hunt for Red October  1990-03-02  Paramount Pictures   \n",
       "\n",
       "               Genre        Gross  Tickets Sold       x       y  \n",
       "0              Drama  217631306.0    51571399.0  887.85  169.88  \n",
       "1    Romantic Comedy  178406268.0    42276366.0  930.50  265.54  \n",
       "2             Comedy  176954863.0    41932431.0  784.02  145.53  \n",
       "3          Adventure  135265915.0    32053534.0  859.17  281.43  \n",
       "4  Thriller/Suspense  120709866.0    28604233.0  815.22  302.71  "
      ]
     },
     "execution_count": 51,
     "metadata": {},
     "output_type": "execute_result"
    }
   ],
   "source": [
    "data_crop = data.iloc[:2010, :]\n",
    "data_crop['x'] = x\n",
    "data_crop['y'] = y\n",
    "data_crop.head()"
   ]
  },
  {
   "cell_type": "markdown",
   "id": "0eb0d45a",
   "metadata": {},
   "source": [
    "# 更改column names"
   ]
  },
  {
   "cell_type": "code",
   "execution_count": 52,
   "id": "29119121",
   "metadata": {},
   "outputs": [],
   "source": [
    "data_crop.columns = ['rank', 'title', 'releaseYear', 'artist', \n",
    "                     'listType', 'listHighestRank', 'Tickets Sold', 'x', 'y']"
   ]
  },
  {
   "cell_type": "code",
   "execution_count": 53,
   "id": "01bb2b56",
   "metadata": {},
   "outputs": [
    {
     "data": {
      "text/html": [
       "<div>\n",
       "<style scoped>\n",
       "    .dataframe tbody tr th:only-of-type {\n",
       "        vertical-align: middle;\n",
       "    }\n",
       "\n",
       "    .dataframe tbody tr th {\n",
       "        vertical-align: top;\n",
       "    }\n",
       "\n",
       "    .dataframe thead th {\n",
       "        text-align: right;\n",
       "    }\n",
       "</style>\n",
       "<table border=\"1\" class=\"dataframe\">\n",
       "  <thead>\n",
       "    <tr style=\"text-align: right;\">\n",
       "      <th></th>\n",
       "      <th>rank</th>\n",
       "      <th>title</th>\n",
       "      <th>releaseYear</th>\n",
       "      <th>artist</th>\n",
       "      <th>listType</th>\n",
       "      <th>listHighestRank</th>\n",
       "      <th>Tickets Sold</th>\n",
       "      <th>x</th>\n",
       "      <th>y</th>\n",
       "    </tr>\n",
       "  </thead>\n",
       "  <tbody>\n",
       "    <tr>\n",
       "      <th>0</th>\n",
       "      <td>1</td>\n",
       "      <td>Ghost</td>\n",
       "      <td>1990-07-13</td>\n",
       "      <td>Paramount Pictures</td>\n",
       "      <td>Drama</td>\n",
       "      <td>217631306.0</td>\n",
       "      <td>51571399.0</td>\n",
       "      <td>887.85</td>\n",
       "      <td>169.88</td>\n",
       "    </tr>\n",
       "    <tr>\n",
       "      <th>1</th>\n",
       "      <td>2</td>\n",
       "      <td>Pretty Woman</td>\n",
       "      <td>1990-03-23</td>\n",
       "      <td>Walt Disney</td>\n",
       "      <td>Romantic Comedy</td>\n",
       "      <td>178406268.0</td>\n",
       "      <td>42276366.0</td>\n",
       "      <td>930.50</td>\n",
       "      <td>265.54</td>\n",
       "    </tr>\n",
       "    <tr>\n",
       "      <th>2</th>\n",
       "      <td>3</td>\n",
       "      <td>Home Alone</td>\n",
       "      <td>1990-11-16</td>\n",
       "      <td>20th Century Fox</td>\n",
       "      <td>Comedy</td>\n",
       "      <td>176954863.0</td>\n",
       "      <td>41932431.0</td>\n",
       "      <td>784.02</td>\n",
       "      <td>145.53</td>\n",
       "    </tr>\n",
       "    <tr>\n",
       "      <th>3</th>\n",
       "      <td>4</td>\n",
       "      <td>Teenage Mutant Ninja Turtles</td>\n",
       "      <td>1990-03-30</td>\n",
       "      <td>New Line</td>\n",
       "      <td>Adventure</td>\n",
       "      <td>135265915.0</td>\n",
       "      <td>32053534.0</td>\n",
       "      <td>859.17</td>\n",
       "      <td>281.43</td>\n",
       "    </tr>\n",
       "    <tr>\n",
       "      <th>4</th>\n",
       "      <td>5</td>\n",
       "      <td>The Hunt for Red October</td>\n",
       "      <td>1990-03-02</td>\n",
       "      <td>Paramount Pictures</td>\n",
       "      <td>Thriller/Suspense</td>\n",
       "      <td>120709866.0</td>\n",
       "      <td>28604233.0</td>\n",
       "      <td>815.22</td>\n",
       "      <td>302.71</td>\n",
       "    </tr>\n",
       "  </tbody>\n",
       "</table>\n",
       "</div>"
      ],
      "text/plain": [
       "   rank                         title releaseYear              artist  \\\n",
       "0     1                         Ghost  1990-07-13  Paramount Pictures   \n",
       "1     2                  Pretty Woman  1990-03-23         Walt Disney   \n",
       "2     3                    Home Alone  1990-11-16    20th Century Fox   \n",
       "3     4  Teenage Mutant Ninja Turtles  1990-03-30            New Line   \n",
       "4     5      The Hunt for Red October  1990-03-02  Paramount Pictures   \n",
       "\n",
       "            listType  listHighestRank  Tickets Sold       x       y  \n",
       "0              Drama      217631306.0    51571399.0  887.85  169.88  \n",
       "1    Romantic Comedy      178406268.0    42276366.0  930.50  265.54  \n",
       "2             Comedy      176954863.0    41932431.0  784.02  145.53  \n",
       "3          Adventure      135265915.0    32053534.0  859.17  281.43  \n",
       "4  Thriller/Suspense      120709866.0    28604233.0  815.22  302.71  "
      ]
     },
     "execution_count": 53,
     "metadata": {},
     "output_type": "execute_result"
    }
   ],
   "source": [
    "data_crop.head()"
   ]
  },
  {
   "cell_type": "code",
   "execution_count": 54,
   "id": "52b2ca59",
   "metadata": {},
   "outputs": [
    {
     "name": "stderr",
     "output_type": "stream",
     "text": [
      "/Users/leongvan/opt/anaconda3/lib/python3.7/site-packages/ipykernel_launcher.py:1: SettingWithCopyWarning: \n",
      "A value is trying to be set on a copy of a slice from a DataFrame.\n",
      "Try using .loc[row_indexer,col_indexer] = value instead\n",
      "\n",
      "See the caveats in the documentation: https://pandas.pydata.org/pandas-docs/stable/user_guide/indexing.html#returning-a-view-versus-a-copy\n",
      "  \"\"\"Entry point for launching an IPython kernel.\n"
     ]
    }
   ],
   "source": [
    "data_crop['listHighestRank'] = data_crop['listHighestRank'].apply(lambda x: np.log(x))"
   ]
  },
  {
   "cell_type": "code",
   "execution_count": 55,
   "id": "57b0ec3f",
   "metadata": {},
   "outputs": [],
   "source": [
    "data_crop.to_csv('data.csv')"
   ]
  },
  {
   "cell_type": "code",
   "execution_count": null,
   "id": "6c8c4598",
   "metadata": {},
   "outputs": [],
   "source": []
  }
 ],
 "metadata": {
  "kernelspec": {
   "display_name": "Python 3",
   "language": "python",
   "name": "python3"
  },
  "language_info": {
   "codemirror_mode": {
    "name": "ipython",
    "version": 3
   },
   "file_extension": ".py",
   "mimetype": "text/x-python",
   "name": "python",
   "nbconvert_exporter": "python",
   "pygments_lexer": "ipython3",
   "version": "3.7.4"
  },
  "toc": {
   "base_numbering": 1,
   "nav_menu": {},
   "number_sections": true,
   "sideBar": true,
   "skip_h1_title": false,
   "title_cell": "Table of Contents",
   "title_sidebar": "Contents",
   "toc_cell": false,
   "toc_position": {},
   "toc_section_display": true,
   "toc_window_display": false
  }
 },
 "nbformat": 4,
 "nbformat_minor": 5
}
